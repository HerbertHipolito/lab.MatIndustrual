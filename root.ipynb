{
  "cells": [
    {
      "cell_type": "code",
      "execution_count": null,
      "metadata": {
        "colab": {
          "base_uri": "https://localhost:8080/"
        },
        "id": "RtCZDwLumdpy",
        "outputId": "58487084-5a94-418f-a4ad-651a5dbd44f4"
      },
      "outputs": [
        {
          "name": "stdout",
          "output_type": "stream",
          "text": [
            "Requirement already satisfied: ipykernel in /usr/local/lib/python3.7/dist-packages (4.10.1)\n",
            "Requirement already satisfied: traitlets>=4.1.0 in /usr/local/lib/python3.7/dist-packages (from ipykernel) (5.1.1)\n",
            "Requirement already satisfied: tornado>=4.0 in /usr/local/lib/python3.7/dist-packages (from ipykernel) (5.1.1)\n",
            "Requirement already satisfied: ipython>=4.0.0 in /usr/local/lib/python3.7/dist-packages (from ipykernel) (5.5.0)\n",
            "Requirement already satisfied: jupyter-client in /usr/local/lib/python3.7/dist-packages (from ipykernel) (5.3.5)\n",
            "Requirement already satisfied: pexpect in /usr/local/lib/python3.7/dist-packages (from ipython>=4.0.0->ipykernel) (4.8.0)\n",
            "Requirement already satisfied: pickleshare in /usr/local/lib/python3.7/dist-packages (from ipython>=4.0.0->ipykernel) (0.7.5)\n",
            "Requirement already satisfied: setuptools>=18.5 in /usr/local/lib/python3.7/dist-packages (from ipython>=4.0.0->ipykernel) (57.4.0)\n",
            "Requirement already satisfied: decorator in /usr/local/lib/python3.7/dist-packages (from ipython>=4.0.0->ipykernel) (4.4.2)\n",
            "Requirement already satisfied: pygments in /usr/local/lib/python3.7/dist-packages (from ipython>=4.0.0->ipykernel) (2.6.1)\n",
            "Requirement already satisfied: simplegeneric>0.8 in /usr/local/lib/python3.7/dist-packages (from ipython>=4.0.0->ipykernel) (0.8.1)\n",
            "Requirement already satisfied: prompt-toolkit<2.0.0,>=1.0.4 in /usr/local/lib/python3.7/dist-packages (from ipython>=4.0.0->ipykernel) (1.0.18)\n",
            "Requirement already satisfied: six>=1.9.0 in /usr/local/lib/python3.7/dist-packages (from prompt-toolkit<2.0.0,>=1.0.4->ipython>=4.0.0->ipykernel) (1.15.0)\n",
            "Requirement already satisfied: wcwidth in /usr/local/lib/python3.7/dist-packages (from prompt-toolkit<2.0.0,>=1.0.4->ipython>=4.0.0->ipykernel) (0.2.5)\n",
            "Requirement already satisfied: jupyter-core>=4.6.0 in /usr/local/lib/python3.7/dist-packages (from jupyter-client->ipykernel) (4.9.2)\n",
            "Requirement already satisfied: python-dateutil>=2.1 in /usr/local/lib/python3.7/dist-packages (from jupyter-client->ipykernel) (2.8.2)\n",
            "Requirement already satisfied: pyzmq>=13 in /usr/local/lib/python3.7/dist-packages (from jupyter-client->ipykernel) (22.3.0)\n",
            "Requirement already satisfied: ptyprocess>=0.5 in /usr/local/lib/python3.7/dist-packages (from pexpect->ipython>=4.0.0->ipykernel) (0.7.0)\n"
          ]
        }
      ],
      "source": [
        "! pip  install ipykernel\n",
        "import matplotlib.pyplot as plt\n",
        "import pandas as pd\n",
        "import numpy as np\n",
        "from scipy.special import logsumexp\n",
        "import ipykernel\n",
        "from decimal import Decimal\n",
        "from fractions import Fraction"
      ]
    },
    {
      "cell_type": "markdown",
      "metadata": {
        "id": "sATTuRx_mt74"
      },
      "source": [
        "# **Raizes de uma equação**\n",
        "\n"
      ]
    },
    {
      "cell_type": "markdown",
      "metadata": {
        "id": "9n8kwbpBn7WO"
      },
      "source": [
        "#classes e metodos utilizados"
      ]
    },
    {
      "cell_type": "code",
      "execution_count": null,
      "metadata": {
        "id": "1tbbDU5onx1H"
      },
      "outputs": [],
      "source": [
        "class newton_raphson:\n",
        "  \n",
        "  def __init__(self,function,initial_dot,create_graph=False):\n",
        "    \n",
        "    self.initial_dot = initial_dot\n",
        "    self.function = function\n",
        "    self.create_graph = create_graph\n",
        "\n",
        "  def find_root(self,deltaX,error,max_tries,inital_graph=0,end_graph=0):\n",
        "\n",
        "    [self.dots,self.deltaX,count,old_dot]=[[],deltaX,0,self.initial_dot]\n",
        "\n",
        "    while(True):\n",
        "\n",
        "      print('iteration '+str(count)+'\\n')\n",
        "      self.dots.append(old_dot)\n",
        "      print('f(x_n-1): '+str(self.function(old_dot))+' x_n-1:'+str(old_dot))\n",
        "      new_dot = old_dot - self.function(old_dot)/self.derivate(old_dot)\n",
        "      print('f(x_n): '+str(self.function(new_dot))+' x_n:'+str(new_dot))\n",
        "      if (abs((new_dot-old_dot))/new_dot <= error) or count == max_tries:\n",
        "        break\n",
        "\n",
        "      old_dot = new_dot\n",
        "      count+=1\n",
        "    \n",
        "    self.dots.append(new_dot)\n",
        "\n",
        "    if self.create_graph:\n",
        "      \n",
        "      dots = np.array(self.dots)\n",
        "\n",
        "      xs = np.linspace(dots[0]-inital_graph, dots[-1]+end_graph, 1000)\n",
        "      y = [self.function(x) for x in xs]\n",
        "\n",
        "      plt.plot(xs,y)\n",
        "      plt.plot(self.dots,[self.function(dot) for dot in self.dots],'xb')\n",
        "      plt.xlabel('X')\n",
        "      plt.ylabel('f(X)')\n",
        "      plt.title('Pontos utilizados pelo método de Newton')\n",
        "      plt.grid()\n",
        "      plt.show\n",
        " \n",
        "    return new_dot\n",
        "\n",
        "  def derivate(self,xn):\n",
        "\n",
        "    return (self.function(xn+self.deltaX)-self.function(xn))/(self.deltaX)\n",
        "\n",
        "class bisection_method:\n",
        "  \n",
        "  def __init__(self,function,initial_a,initial_b,create_graph=False):\n",
        "    \n",
        "    self.initial_a = initial_a\n",
        "    self.initial_b = initial_b\n",
        "    self.function = function\n",
        "    self.create_graph = create_graph\n",
        "\n",
        "  def find_root(self,error,max_tries,inital_graph=0,end_graph=0):\n",
        "\n",
        "    [self.dots,count,a,b]=[[],0,self.initial_a,self.initial_b]\n",
        "\n",
        "    old_middle_dot = (a+b)/2\n",
        "\n",
        "    self.dots.append(old_middle_dot)\n",
        "\n",
        "    while(True):\n",
        "      print('iteration '+str(count)+'\\n')\n",
        "      print('f(x_n-1): '+str(self.function(logsumexp(old_middle_dot)))+' x_n-1:'+str(old_middle_dot))\n",
        "      if self.function(logsumexp(a))*self.function(logsumexp(b))>0:\n",
        "        a = old_middle_dot\n",
        "      else:\n",
        "        b = old_middle_dot\n",
        "\n",
        "      new_middle_dot = (a+b)/2\n",
        "\n",
        "      if count==max_tries or (abs(new_middle_dot-old_middle_dot)/new_middle_dot)<error:\n",
        "        break\n",
        "      old_middle_dot = new_middle_dot\n",
        "      print('f(x_n): '+str(self.function(old_middle_dot))+' x_n:'+str(old_middle_dot))\n",
        "      self.dots.append(old_middle_dot)\n",
        "      #print(new_middle_dot-old_middle_dot,abs(new_middle_dot-old_middle_dot))\n",
        "      \n",
        "      \n",
        "      count+=1\n",
        "\n",
        "    if self.create_graph:\n",
        "       \n",
        "      dots = np.array(self.dots)\n",
        "\n",
        "      xs = np.linspace(dots[0]-inital_graph, dots[-1]+end_graph, 1000)\n",
        "      y = [self.function(x) for x in xs]\n",
        "\n",
        "      plt.plot(xs,y)\n",
        "      plt.plot(self.dots,[self.function(dot) for dot in self.dots],'xb')\n",
        "      plt.xlabel('X')\n",
        "      plt.ylabel('f(X)')\n",
        "      plt.title('Pontos utilizados pelo método da bisseção')\n",
        "      plt.grid()\n",
        "      plt.show()\n",
        " \n",
        "    return new_middle_dot\n",
        "\n"
      ]
    },
    {
      "cell_type": "markdown",
      "metadata": {
        "id": "qgiqyrQDnxd1"
      },
      "source": [
        "#Projeto 2:"
      ]
    },
    {
      "cell_type": "markdown",
      "metadata": {
        "id": "KnGP_IKOsHaJ"
      },
      "source": [
        "real 2.34185971282333×10^-6"
      ]
    },
    {
      "cell_type": "code",
      "source": [
        "[k1,k2,k3,kh,pco2]=[10**(-6.3),10**(-10.3),10**(-14),10**(-1.46),315]\n",
        "\n",
        "#function = lambda x:x*5.474072610560535e-12 + 5.487070616723301e-22 + k3*x - x**3\n",
        "function = lambda x:(x*k1*kh*pco2)/((10**6)) + (2*k2*k1*kh*pco2)/(10**6) + k3*x - x**3\n",
        "\n",
        "bisection = bisection_method(function,10**(-12),10**(-2),True)\n",
        "result = bisection.find_root(0.05,1000,0.01,0.01)\n",
        "display(result)\n",
        "display(-np.log10(result))"
      ],
      "metadata": {
        "colab": {
          "base_uri": "https://localhost:8080/",
          "height": 1000
        },
        "id": "1gKkIQVBnkwE",
        "outputId": "dccdb1f5-3be0-4389-e40f-6da4dd42a8c0"
      },
      "execution_count": null,
      "outputs": [
        {
          "output_type": "stream",
          "name": "stdout",
          "text": [
            "iteration 0\n",
            "\n",
            "f(x_n-1): -1.2500001007963738e-07 x_n-1:0.0050000005\n",
            "f(x_n): -1.562500035231803e-08 x_n:0.00250000075\n",
            "iteration 1\n",
            "\n",
            "f(x_n-1): -1.562500035231803e-08 x_n-1:0.00250000075\n",
            "f(x_n): -1.9531222464692605e-09 x_n:0.001250000875\n",
            "iteration 2\n",
            "\n",
            "f(x_n-1): -1.9531222464692605e-09 x_n-1:0.001250000875\n",
            "f(x_n): -2.4413829608338874e-10 x_n:0.0006250009375\n",
            "iteration 3\n",
            "\n",
            "f(x_n-1): -2.4413829608338874e-10 x_n-1:0.0006250009375\n",
            "f(x_n): -3.051614816080418e-11 x_n:0.00031250096875\n",
            "iteration 4\n",
            "\n",
            "f(x_n-1): -3.051614816080418e-11 x_n-1:0.00031250096875\n",
            "f(x_n): -3.813912471565046e-12 x_n:0.000156250984375\n",
            "iteration 5\n",
            "\n",
            "f(x_n-1): -3.813912471565046e-12 x_n-1:0.000156250984375\n",
            "f(x_n): -4.764268767669453e-13 x_n:7.81259921875e-05\n",
            "iteration 6\n",
            "\n",
            "f(x_n-1): -4.764268767669453e-13 x_n-1:7.81259921875e-05\n",
            "f(x_n): -5.939497704928315e-14 x_n:3.906349609375e-05\n",
            "iteration 7\n",
            "\n",
            "f(x_n-1): -5.939497704928315e-14 x_n-1:3.906349609375e-05\n",
            "f(x_n): -7.344606014051819e-15 x_n:1.9532248046875e-05\n",
            "iteration 8\n",
            "\n",
            "f(x_n-1): -7.344606014051819e-15 x_n-1:1.9532248046875e-05\n",
            "f(x_n): -8.780470027426696e-16 x_n:9.7666240234375e-06\n",
            "iteration 9\n",
            "\n",
            "f(x_n-1): -8.780470027426696e-16 x_n-1:9.7666240234375e-06\n",
            "f(x_n): -8.970309871554813e-17 x_n:4.88381201171875e-06\n",
            "iteration 10\n",
            "\n",
            "f(x_n-1): -8.970309871554813e-17 x_n-1:4.88381201171875e-06\n",
            "f(x_n): -1.1749189902034505e-18 x_n:2.442406005859375e-06\n",
            "iteration 11\n",
            "\n",
            "f(x_n-1): -1.1749189902034505e-18 x_n-1:2.442406005859375e-06\n",
            "f(x_n): 4.8769938152457455e-18 x_n:1.2217030029296875e-06\n",
            "iteration 12\n",
            "\n",
            "f(x_n-1): 4.8769938152457455e-18 x_n-1:1.2217030029296875e-06\n",
            "f(x_n): 3.124751705518419e-18 x_n:6.113515014648438e-07\n",
            "iteration 13\n",
            "\n",
            "f(x_n-1): 3.124751705518419e-18 x_n-1:6.113515014648438e-07\n",
            "f(x_n): 4.256947465233616e-18 x_n:9.165272521972656e-07\n",
            "iteration 14\n",
            "\n",
            "f(x_n-1): 4.256947465233616e-18 x_n-1:9.165272521972656e-07\n",
            "f(x_n): 4.641647454291523e-18 x_n:1.0691151275634766e-06\n",
            "iteration 15\n",
            "\n",
            "f(x_n-1): 4.641647454291523e-18 x_n-1:1.0691151275634766e-06\n",
            "f(x_n): 4.7793221055114654e-18 x_n:1.1454090652465821e-06\n",
            "iteration 16\n",
            "\n",
            "f(x_n-1): 4.7793221055114654e-18 x_n-1:1.1454090652465821e-06\n"
          ]
        },
        {
          "output_type": "display_data",
          "data": {
            "text/plain": [
              "<Figure size 432x288 with 1 Axes>"
            ],
            "image/png": "[encoded data removed]"
          },
          "metadata": {
            "needs_background": "light"
          }
        },
        {
          "output_type": "display_data",
          "data": {
            "text/plain": [
              "1.1835560340881348e-06"
            ]
          },
          "metadata": {}
        },
        {
          "output_type": "display_data",
          "data": {
            "text/plain": [
              "5.926811176079467"
            ]
          },
          "metadata": {}
        }
      ]
    },
    {
      "cell_type": "code",
      "execution_count": null,
      "metadata": {
        "colab": {
          "base_uri": "https://localhost:8080/",
          "height": 1000
        },
        "id": "ORlj1cYeUq64",
        "outputId": "4d86af58-5cca-49e2-bd10-b71cbe1bf225"
      },
      "outputs": [
        {
          "output_type": "stream",
          "name": "stdout",
          "text": [
            "iteration 0\n",
            "\n",
            "f(x_n-1): -1.2499996740373381e-07 x_n-1:0.0050000000005\n",
            "f(x_n): -1.5624983697179078e-08 x_n:0.0025000000007500004\n",
            "iteration 1\n",
            "\n",
            "f(x_n-1): -1.5624983697179078e-08 x_n-1:0.0025000000007500004\n",
            "f(x_n): -1.9531168456595197e-09 x_n:0.0012500000008750002\n",
            "iteration 2\n",
            "\n",
            "f(x_n-1): -1.9531168456595197e-09 x_n-1:0.0012500000008750002\n",
            "f(x_n): -2.441365468772812e-10 x_n:0.0006250000009375001\n",
            "iteration 3\n",
            "\n",
            "f(x_n-1): -2.441365468772812e-10 x_n-1:0.0006250000009375001\n",
            "f(x_n): -3.0515538797807756e-11 x_n:0.00031250000096875004\n",
            "iteration 4\n",
            "\n",
            "f(x_n-1): -3.0515538797807756e-11 x_n-1:0.00031250000096875004\n",
            "f(x_n): -3.8136775318900374e-12 x_n:0.00015625000098437502\n",
            "iteration 5\n",
            "\n",
            "f(x_n-1): -3.8136775318900374e-12 x_n-1:0.00015625000098437502\n",
            "f(x_n): -4.76327273124375e-13 x_n:7.812500099218751e-05\n",
            "iteration 6\n",
            "\n",
            "f(x_n-1): -4.76327273124375e-13 x_n-1:7.812500099218751e-05\n",
            "f(x_n): -5.934969738214828e-14 x_n:3.906250099609375e-05\n",
            "iteration 7\n",
            "\n",
            "f(x_n-1): -5.934969738214828e-14 x_n-1:3.906250099609375e-05\n",
            "f(x_n): -7.323105432724279e-15 x_n:1.9531250998046877e-05\n",
            "iteration 8\n",
            "\n",
            "f(x_n-1): -7.323105432724279e-15 x_n-1:1.9531250998046877e-05\n",
            "f(x_n): -8.675843773768757e-16 x_n:9.765625999023438e-06\n",
            "iteration 9\n",
            "\n",
            "f(x_n-1): -8.675843773768757e-16 x_n-1:9.765625999023438e-06\n",
            "f(x_n): -8.45458219121106e-17 x_n:4.882813499511719e-06\n",
            "iteration 10\n",
            "\n",
            "f(x_n-1): -8.45458219121106e-17 x_n-1:4.882813499511719e-06\n",
            "f(x_n): 1.3831824720647441e-18 x_n:2.4414072497558596e-06\n",
            "iteration 11\n",
            "\n",
            "f(x_n-1): 1.3831824720647441e-18 x_n-1:2.4414072497558596e-06\n",
            "f(x_n): 6.148893790103999e-18 x_n:1.2207041248779297e-06\n",
            "iteration 12\n",
            "\n",
            "f(x_n-1): 6.148893790103999e-18 x_n-1:1.2207041248779297e-06\n",
            "f(x_n): 5.812402327046643e-18 x_n:1.8310556873168945e-06\n",
            "iteration 13\n",
            "\n",
            "f(x_n-1): 5.812402327046643e-18 x_n-1:1.8310556873168945e-06\n",
            "f(x_n): 4.194648576811893e-18 x_n:2.136231468536377e-06\n",
            "iteration 14\n",
            "\n",
            "f(x_n-1): 4.194648576811893e-18 x_n-1:2.136231468536377e-06\n",
            "f(x_n): 2.948787709785574e-18 x_n:2.2888193591461183e-06\n",
            "iteration 15\n",
            "\n",
            "f(x_n-1): 2.948787709785574e-18 x_n-1:2.2888193591461183e-06\n"
          ]
        },
        {
          "output_type": "display_data",
          "data": {
            "text/plain": [
              "<Figure size 432x288 with 1 Axes>"
            ],
            "image/png": "[encoded data removed]"
          },
          "metadata": {
            "needs_background": "light"
          }
        },
        {
          "output_type": "display_data",
          "data": {
            "text/plain": [
              "2.3651133044509887e-06"
            ]
          },
          "metadata": {}
        },
        {
          "output_type": "display_data",
          "data": {
            "text/plain": [
              "5.626148048871565"
            ]
          },
          "metadata": {}
        }
      ],
      "source": [
        "[k1,k2,k3,kh,pco2]=[10**(-6.3),10**(-10.3),10**(-14),10**(-1.46),375]\n",
        "\n",
        "#function = lambda x:x*5.474072610560535e-12 + 5.487070616723301e-22 + k3*x - x**3\n",
        "function = lambda x:(x*k1*kh*pco2)/((10**6)) + (2*k2*k1*kh*pco2)/(10**6) + k3*x - x**3\n",
        "\n",
        "bisection = bisection_method(function,10**(-12),10**(-2),True)\n",
        "result = bisection.find_root(0.05,1000,0.01,0.01)\n",
        "display(result)\n",
        "display(-np.log10(result))\n"
      ]
    },
    {
      "cell_type": "code",
      "source": [
        "5.626148048871565/5.927177860910352"
      ],
      "metadata": {
        "colab": {
          "base_uri": "https://localhost:8080/"
        },
        "id": "BJadACSdoBwG",
        "outputId": "5fd94f47-a317-45fe-e8df-4fda2d026ad7"
      },
      "execution_count": null,
      "outputs": [
        {
          "output_type": "execute_result",
          "data": {
            "text/plain": [
              "0.9492119489067345"
            ]
          },
          "metadata": {},
          "execution_count": 31
        }
      ]
    },
    {
      "cell_type": "markdown",
      "metadata": {
        "id": "QRvMESTPntsP"
      },
      "source": [
        "#Projeto 4:"
      ]
    },
    {
      "cell_type": "markdown",
      "metadata": {
        "id": "doiaJV7pAVKs"
      },
      "source": [
        "raiz real = 0.03996479"
      ]
    },
    {
      "cell_type": "code",
      "execution_count": null,
      "metadata": {
        "colab": {
          "base_uri": "https://localhost:8080/",
          "height": 1000
        },
        "id": "qH6ZOaJ-cKJc",
        "outputId": "7574453c-da1a-4312-9de3-8381d9333e20"
      },
      "outputs": [
        {
          "name": "stdout",
          "output_type": "stream",
          "text": [
            "iteration 0\n",
            "\n",
            "f(x_n-1): -2.8326255467240258 x_n-1:0.21000000000000002\n",
            "f(x_n): -2.0625313075394254 x_n:0.115\n",
            "iteration 1\n",
            "\n",
            "f(x_n-1): -2.0625313075394254 x_n-1:0.115\n",
            "f(x_n): -1.158344145822456 x_n:0.0675\n",
            "iteration 2\n",
            "\n",
            "f(x_n-1): -1.158344145822456 x_n-1:0.0675\n",
            "f(x_n): -0.22227357779960588 x_n:0.043750000000000004\n",
            "iteration 3\n",
            "\n",
            "f(x_n-1): -0.22227357779960588 x_n-1:0.043750000000000004\n",
            "f(x_n): 0.6015847046244893 x_n:0.031875\n",
            "iteration 4\n",
            "\n",
            "f(x_n-1): 0.6015847046244893 x_n-1:0.031875\n",
            "f(x_n): 1.2123720776271414 x_n:0.025937500000000002\n",
            "iteration 5\n",
            "\n",
            "f(x_n-1): 1.2123720776271414 x_n-1:0.025937500000000002\n",
            "f(x_n): 0.8834293147676116 x_n:0.02890625\n",
            "iteration 6\n",
            "\n",
            "f(x_n-1): 0.8834293147676116 x_n-1:0.02890625\n",
            "f(x_n): 0.7373435017912948 x_n:0.030390625\n",
            "iteration 7\n",
            "\n",
            "f(x_n-1): 0.7373435017912948 x_n-1:0.030390625\n",
            "f(x_n): 0.6682504009409813 x_n:0.031132812500000002\n",
            "iteration 8\n",
            "\n",
            "f(x_n-1): 0.6682504009409813 x_n-1:0.031132812500000002\n",
            "f(x_n): 0.6346230759296141 x_n:0.031503906250000005\n",
            "iteration 9\n",
            "\n",
            "f(x_n-1): 0.6346230759296141 x_n-1:0.031503906250000005\n",
            "f(x_n): 0.6180313494777918 x_n:0.031689453125\n",
            "iteration 10\n",
            "\n",
            "f(x_n-1): 0.6180313494777918 x_n-1:0.031689453125\n",
            "f(x_n): 0.6097900242412004 x_n:0.0317822265625\n",
            "iteration 11\n",
            "\n",
            "f(x_n-1): 0.6097900242412004 x_n-1:0.0317822265625\n",
            "f(x_n): 0.6056828801313179 x_n:0.03182861328125\n",
            "iteration 12\n",
            "\n",
            "f(x_n-1): 0.6056828801313179 x_n-1:0.03182861328125\n",
            "f(x_n): 0.6036326733434976 x_n:0.031851806640625\n",
            "iteration 13\n",
            "\n",
            "f(x_n-1): 0.6036326733434976 x_n-1:0.031851806640625\n",
            "f(x_n): 0.6026084094799451 x_n:0.0318634033203125\n",
            "iteration 14\n",
            "\n",
            "f(x_n-1): 0.6026084094799451 x_n-1:0.0318634033203125\n",
            "f(x_n): 0.602096487207989 x_n:0.03186920166015625\n",
            "iteration 15\n",
            "\n",
            "f(x_n-1): 0.602096487207989 x_n-1:0.03186920166015625\n"
          ]
        },
        {
          "name": "stderr",
          "output_type": "stream",
          "text": [
            "/usr/local/lib/python3.7/dist-packages/ipykernel_launcher.py:2: RuntimeWarning: invalid value encountered in double_scalars\n",
            "  \n"
          ]
        },
        {
          "data": {
            "image/png": "[encoded data removed]",
            "text/plain": [
              "<Figure size 432x288 with 1 Axes>"
            ]
          },
          "metadata": {},
          "output_type": "display_data"
        },
        {
          "data": {
            "text/plain": [
              "0.031872100830078125"
            ]
          },
          "metadata": {},
          "output_type": "display_data"
        }
      ],
      "source": [
        "re = (1.23*40*0.005)/0.0000179\n",
        "function = lambda x: logsumexp(1)/logsumexp((x)**(1/2)) + logsumexp(2*np.log(0.0015/(3.7*0.005) +logsumexp(2.51)/logsumexp(((x**(1/2))*re)) ) )\n",
        "\n",
        "bisection = bisection_method(function,0.02,0.4,True)\n",
        "display(bisection.find_root(0.0001,100,0.5,0.6))"
      ]
    },
    {
      "cell_type": "markdown",
      "metadata": {
        "id": "LWgtRA7ASgG2"
      },
      "source": [
        "Trying to solve project 4 problem by Newton-raphson."
      ]
    },
    {
      "cell_type": "code",
      "execution_count": null,
      "metadata": {
        "colab": {
          "base_uri": "https://localhost:8080/",
          "height": 494
        },
        "id": "GUahFQG54kHi",
        "outputId": "61c0694c-683c-4970-b4a8-e24d3203860d"
      },
      "outputs": [
        {
          "name": "stdout",
          "output_type": "stream",
          "text": [
            "iteration 0\n",
            "\n",
            "f(x_n-1): 2.078061226720264 x_n-1:0.02\n",
            "f(x_n): -0.0008763035287593368 x_n:0.03997873574989634\n",
            "iteration 1\n",
            "\n",
            "f(x_n-1): -0.0008763035287593368 x_n-1:0.03997873574989634\n",
            "f(x_n): 0.0003181327643719811 x_n:0.03995973147654048\n"
          ]
        },
        {
          "name": "stderr",
          "output_type": "stream",
          "text": [
            "/usr/local/lib/python3.7/dist-packages/ipykernel_launcher.py:3: RuntimeWarning: invalid value encountered in double_scalars\n",
            "  This is separate from the ipykernel package so we can avoid doing imports until\n"
          ]
        },
        {
          "data": {
            "text/plain": [
              "0.03995973147654048"
            ]
          },
          "metadata": {},
          "output_type": "display_data"
        },
        {
          "data": {
            "image/png": "[encoded data removed]",
            "text/plain": [
              "<Figure size 432x288 with 1 Axes>"
            ]
          },
          "metadata": {},
          "output_type": "display_data"
        }
      ],
      "source": [
        "re = (1.23*40*0.005)/0.0000179\n",
        "\n",
        "function = lambda x: 1/(x)**(1/2) + 2*np.log(0.0015/(3.7*0.005)+2.51/((x**(1/2))*re) )\n",
        "#function = lambda x: logsumexp(1)/logsumexp((x)**(1/2)) + logsumexp(2*np.log(0.0015/(3.7*0.005) +logsumexp(2.51)/logsumexp(((x**(1/2))*re)) ) )\n",
        "newton_raphson_method = newton_raphson(function,0.02,True)\n",
        "\n",
        "display(newton_raphson_method.find_root(0.02,0.001,100,0.1,0.02))"
      ]
    }
  ],
  "metadata": {
    "colab": {
      "collapsed_sections": [],
      "name": "LabMatIndustrial.ipynb",
      "provenance": []
    },
    "kernelspec": {
      "display_name": "Python 3",
      "name": "python3"
    },
    "language_info": {
      "name": "python"
    }
  },
  "nbformat": 4,
  "nbformat_minor": 0
}