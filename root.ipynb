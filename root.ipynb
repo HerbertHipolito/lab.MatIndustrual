{
  "cells": [
    {
      "cell_type": "code",
      "execution_count": null,
      "metadata": {
        "id": "RtCZDwLumdpy"
      },
      "outputs": [],
      "source": [
        "import matplotlib.pyplot as plt\n",
        "import pandas as pd\n",
        "import numpy as np\n",
        "from scipy.special import logsumexp"
      ]
    },
    {
      "cell_type": "markdown",
      "metadata": {
        "id": "sATTuRx_mt74"
      },
      "source": [
        "# **Raizes de uma equação**\n",
        "\n"
      ]
    },
    {
      "cell_type": "code",
      "execution_count": 167,
      "metadata": {
        "id": "1tbbDU5onx1H"
      },
      "outputs": [],
      "source": [
        "class newton_raphson:\n",
        "  \n",
        "  def __init__(self,function,initial_dot,create_graph=False):\n",
        "\n",
        "    self.result_table = []    \n",
        "    self.initial_dot = initial_dot\n",
        "    self.function = function\n",
        "    self.create_graph = create_graph\n",
        "\n",
        "  def find_root(self,deltaX,error,max_tries,inital_graph=0,end_graph=0):\n",
        "\n",
        "    [self.dots,self.deltaX,count,old_dot]=[[],deltaX,0,self.initial_dot]\n",
        "\n",
        "    while(True):\n",
        "\n",
        "      print('iteration '+str(count)+'\\n')\n",
        "      self.dots.append(old_dot)\n",
        "      print('f(x_n-1): '+str(self.function(old_dot))+' x_n-1:'+str(old_dot))\n",
        "      new_dot = old_dot - self.function(old_dot)/self.derivate(old_dot)\n",
        "      print('f(x_n): '+str(self.function(new_dot))+' x_n:'+str(new_dot))\n",
        "      if (abs((new_dot-old_dot))/new_dot <= error) or count == max_tries:\n",
        "        break\n",
        "\n",
        "      old_dot = new_dot\n",
        "      count+=1\n",
        "    \n",
        "    self.dots.append(new_dot)\n",
        "\n",
        "    if self.create_graph:\n",
        "      \n",
        "      dots = np.array(self.dots)\n",
        "\n",
        "      xs = np.linspace(dots[0]-inital_graph, dots[-1]+end_graph, 1000)\n",
        "      y = [self.function(x) for x in xs]\n",
        "\n",
        "      plt.plot(xs,y)\n",
        "      plt.plot(self.dots,[self.function(dot) for dot in self.dots],'xb')\n",
        "      plt.xlabel('X')\n",
        "      plt.ylabel('f(X)')\n",
        "      plt.title('Pontos utilizados pelo método de Newton')\n",
        "      plt.grid()\n",
        "      plt.show\n",
        " \n",
        "    return new_dot\n",
        "\n",
        "  def derivate(self,xn):\n",
        "\n",
        "    return (self.function(xn+self.deltaX)-self.function(xn))/(self.deltaX)\n",
        "\n",
        "class bisection_method:\n",
        "  \n",
        "  def __init__(self,function,initial_a,initial_b,create_graph=False):\n",
        "\n",
        "    self.result_table = []\n",
        "    self.initial_a = initial_a\n",
        "    self.initial_b = initial_b\n",
        "    self.function = function\n",
        "    self.create_graph = create_graph\n",
        "\n",
        "  def find_root(self,error,max_tries,inital_graph=0,end_graph=0,name_fig=None):\n",
        "\n",
        "    [self.dots,count,a,b]=[[],0,self.initial_a,self.initial_b]\n",
        "\n",
        "    old_middle_dot = (a+b)/2\n",
        "\n",
        "    self.dots.append(old_middle_dot)\n",
        "\n",
        "    while(True):\n",
        "      print('iteration '+str(count)+'\\n')\n",
        "      print('f(x_n-1): '+str(self.function(old_middle_dot))+' x_n-1:'+str(old_middle_dot))\n",
        "      \n",
        "\n",
        "      if self.function(a)*self.function(old_middle_dot)>0:\n",
        "        a = old_middle_dot\n",
        "      else:\n",
        "        b = old_middle_dot\n",
        "\n",
        "      new_middle_dot = (a+b)/2\n",
        "\n",
        "      self.result_table.append([self.function(new_middle_dot),a,new_middle_dot,b])\n",
        "\n",
        "\n",
        "      if count==max_tries or (abs((new_middle_dot-old_middle_dot)/new_middle_dot))<error:\n",
        "        break\n",
        "      old_middle_dot = new_middle_dot\n",
        "      print('f(x_n): '+str(self.function(old_middle_dot))+' x_n:'+str(old_middle_dot))\n",
        "      self.dots.append(old_middle_dot)\n",
        "      #print(new_middle_dot-old_middle_dot,abs(new_middle_dot-old_middle_dot))\n",
        "      \n",
        "      \n",
        "      count+=1\n",
        "\n",
        "    self.result_table=pd.DataFrame(self.result_table).rename(columns={0:'f(x)',1:'PH de a',2:'PH de (a+b)/2',3:'PH de b'})\n",
        "\n",
        "    if self.create_graph:\n",
        "       \n",
        "      dots = np.array(self.dots)\n",
        "\n",
        "      xs = np.linspace(self.dots[0] - inital_graph,  self.dots[-1] + end_graph, 1000)\n",
        "      y = [self.function(x) for x in xs]\n",
        "\n",
        "      plt.plot(xs,y)\n",
        "      plt.plot(self.dots,[self.function(dot) for dot in self.dots],'xk',label='pontos centrais')\n",
        "     \n",
        "      plt.xlabel('x')\n",
        "      plt.ylabel('f(X)')\n",
        "      plt.title('Pontos utilizados pelo método da bisseção')\n",
        "      plt.grid()\n",
        "      plt.savefig(name_fig+'.png', format='png')\n",
        "      plt.show()\n",
        "\n",
        "\n",
        " \n",
        "    return new_middle_dot\n",
        "\n"
      ]
    },
    {
      "cell_type": "markdown",
      "metadata": {
        "id": "9n8kwbpBn7WO"
      },
      "source": [
        "#classes e metodos utilizados"
      ]
    },
    {
      "cell_type": "markdown",
      "metadata": {
        "id": "qgiqyrQDnxd1"
      },
      "source": [
        "#Projeto 2:"
      ]
    },
    {
      "cell_type": "markdown",
      "metadata": {
        "id": "KnGP_IKOsHaJ"
      },
      "source": [
        "real 2.34185971282333×10^-6"
      ]
    },
    {
      "cell_type": "code",
      "source": [
        "[k1,k2,k3,kh,pco2]=[10**(-6.3),10**(-10.3),10**(-14),10**(-1.46),315]\n",
        "\n",
        "#function = lambda x:x*5.474072610560535e-12 + 5.487070616723301e-22 + k3*x - x**3\n",
        "function = lambda x:(x*k1*kh*pco2)/((10**6)) + (2*k2*k1*kh*pco2)/(10**6) + k3*x - x**3\n",
        "\n",
        "bisection = bisection_method(function,10**(-12),10**(-2),True)\n",
        "result = bisection.find_root(0.01,1000,0.01,0.01,'proj_2_1958')\n",
        "display(result)\n",
        "display(-np.log10(result))"
      ],
      "metadata": {
        "colab": {
          "base_uri": "https://localhost:8080/",
          "height": 1000
        },
        "id": "1gKkIQVBnkwE",
        "outputId": "109b3511-1ee3-4ffd-8127-88cd280fa62a"
      },
      "execution_count": null,
      "outputs": [
        {
          "output_type": "stream",
          "name": "stdout",
          "text": [
            "iteration 0\n",
            "\n",
            "f(x_n-1): -1.2499997261713642e-07 x_n-1:0.0050000000005\n",
            "f(x_n): -1.5624986303880427e-08 x_n:0.0025000000007500004\n",
            "iteration 1\n",
            "\n",
            "f(x_n-1): -1.5624986303880427e-08 x_n-1:0.0025000000007500004\n",
            "f(x_n): -1.9531181490102468e-09 x_n:0.0012500000008750002\n",
            "iteration 2\n",
            "\n",
            "f(x_n-1): -1.9531181490102468e-09 x_n-1:0.0012500000008750002\n",
            "f(x_n): -2.4413719855269747e-10 x_n:0.0006250000009375001\n",
            "iteration 3\n",
            "\n",
            "f(x_n-1): -2.4413719855269747e-10 x_n-1:0.0006250000009375001\n",
            "f(x_n): -3.0515864635568675e-11 x_n:0.00031250000096875004\n",
            "iteration 4\n",
            "\n",
            "f(x_n-1): -3.0515864635568675e-11 x_n-1:0.00031250000096875004\n",
            "f(x_n): -3.813840450823275e-12 x_n:0.00015625000098437502\n",
            "iteration 5\n",
            "\n",
            "f(x_n-1): -3.813840450823275e-12 x_n-1:0.00015625000098437502\n",
            "f(x_n): -4.764087326437727e-13 x_n:7.812500099218751e-05\n",
            "iteration 6\n",
            "\n",
            "f(x_n-1): -4.764087326437727e-13 x_n-1:7.812500099218751e-05\n",
            "f(x_n): -5.939042719462634e-14 x_n:3.906250099609375e-05\n",
            "iteration 7\n",
            "\n",
            "f(x_n-1): -5.939042719462634e-14 x_n-1:3.906250099609375e-05\n",
            "f(x_n): -7.343470391742461e-15 x_n:1.9531250998046877e-05\n",
            "iteration 8\n",
            "\n",
            "f(x_n-1): -7.343470391742461e-15 x_n-1:1.9531250998046877e-05\n",
            "f(x_n): -8.777669096651222e-16 x_n:9.765625999023438e-06\n",
            "iteration 9\n",
            "\n",
            "f(x_n-1): -8.777669096651222e-16 x_n-1:9.765625999023438e-06\n",
            "f(x_n): -8.963714083538946e-17 x_n:4.882813499511719e-06\n",
            "iteration 10\n",
            "\n",
            "f(x_n-1): -8.963714083538946e-17 x_n-1:4.882813499511719e-06\n",
            "f(x_n): -1.16252976873033e-18 x_n:2.4414072497558596e-06\n",
            "iteration 11\n",
            "\n",
            "f(x_n-1): -1.16252976873033e-18 x_n-1:2.4414072497558596e-06\n",
            "f(x_n): 4.8759848905508146e-18 x_n:1.2207041248779297e-06\n",
            "iteration 12\n",
            "\n",
            "f(x_n-1): 4.8759848905508146e-18 x_n-1:1.2207041248779297e-06\n",
            "f(x_n): 3.9030917568725125e-18 x_n:1.8310556873168945e-06\n",
            "iteration 13\n",
            "\n",
            "f(x_n-1): 3.9030917568725125e-18 x_n-1:1.8310556873168945e-06\n",
            "f(x_n): 1.9671371713272933e-18 x_n:2.136231468536377e-06\n",
            "iteration 14\n",
            "\n",
            "f(x_n-1): 1.9671371713272933e-18 x_n-1:2.136231468536377e-06\n",
            "f(x_n): 5.621758866457363e-19 x_n:2.2888193591461183e-06\n",
            "iteration 15\n",
            "\n",
            "f(x_n-1): 5.621758866457363e-19 x_n-1:2.2888193591461183e-06\n",
            "f(x_n): -2.5887662707632993e-19 x_n:2.3651133044509887e-06\n",
            "iteration 16\n",
            "\n",
            "f(x_n-1): -2.5887662707632993e-19 x_n-1:2.3651133044509887e-06\n",
            "f(x_n): 1.6180817482254758e-19 x_n:2.3269663317985537e-06\n",
            "iteration 17\n",
            "\n",
            "f(x_n-1): 1.6180817482254758e-19 x_n-1:2.3269663317985537e-06\n"
          ]
        },
        {
          "output_type": "display_data",
          "data": {
            "text/plain": [
              "<Figure size 432x288 with 1 Axes>"
            ],
            "image/png": "[encoded data removed]"
          },
          "metadata": {
            "needs_background": "light"
          }
        },
        {
          "output_type": "stream",
          "name": "stderr",
          "text": [
            "/usr/local/lib/python3.7/dist-packages/ipykernel_launcher.py:111: RuntimeWarning: invalid value encountered in log10\n"
          ]
        },
        {
          "output_type": "display_data",
          "data": {
            "text/plain": [
              "<Figure size 432x288 with 1 Axes>"
            ],
            "image/png": "[encoded data removed]"
          },
          "metadata": {
            "needs_background": "light"
          }
        },
        {
          "output_type": "display_data",
          "data": {
            "text/plain": [
              "2.3460398181247712e-06"
            ]
          },
          "metadata": {}
        },
        {
          "output_type": "display_data",
          "data": {
            "text/plain": [
              "5.629664621101514"
            ]
          },
          "metadata": {}
        }
      ]
    },
    {
      "cell_type": "code",
      "source": [
        "result_table_part1 = pd.DataFrame(bisection.result_table).rename(columns={0:'f(x)',1:'PH de a',2:'PH de (a+b)/2',3:'PH de b'})\n",
        "display(result_table_part1)\n",
        "#print(result_table_part1.to_latex())"
      ],
      "metadata": {
        "colab": {
          "base_uri": "https://localhost:8080/",
          "height": 300
        },
        "id": "ZjFi2l0Pwk7E",
        "outputId": "8ad92e63-020e-44dc-9b9b-dc8272a8ed99"
      },
      "execution_count": 154,
      "outputs": [
        {
          "output_type": "display_data",
          "data": {
            "text/plain": [
              "       f(x)   PH de a  PH de (a+b)/2   PH de b\n",
              "0 -1.867137  0.010000       0.055000  0.100000\n",
              "1 -0.374824  0.010000       0.032500  0.055000\n",
              "2  1.110235  0.010000       0.021250  0.032500\n",
              "3  0.254798  0.021250       0.026875  0.032500\n",
              "4 -0.081559  0.026875       0.029688  0.032500\n",
              "5  0.080579  0.026875       0.028281  0.029688\n",
              "6 -0.001910  0.028281       0.028984  0.029688\n",
              "7  0.038969  0.028281       0.028633  0.028984"
            ],
            "text/html": [
              "\n",
              "  <div id=\"df-b1eb1ac4-04aa-4649-bde6-a91a269c0100\">\n",
              "    <div class=\"colab-df-container\">\n",
              "      <div>\n",
              "<style scoped>\n",
              "    .dataframe tbody tr th:only-of-type {\n",
              "        vertical-align: middle;\n",
              "    }\n",
              "\n",
              "    .dataframe tbody tr th {\n",
              "        vertical-align: top;\n",
              "    }\n",
              "\n",
              "    .dataframe thead th {\n",
              "        text-align: right;\n",
              "    }\n",
              "</style>\n",
              "<table border=\"1\" class=\"dataframe\">\n",
              "  <thead>\n",
              "    <tr style=\"text-align: right;\">\n",
              "      <th></th>\n",
              "      <th>f(x)</th>\n",
              "      <th>PH de a</th>\n",
              "      <th>PH de (a+b)/2</th>\n",
              "      <th>PH de b</th>\n",
              "    </tr>\n",
              "  </thead>\n",
              "  <tbody>\n",
              "    <tr>\n",
              "      <th>0</th>\n",
              "      <td>-1.867137</td>\n",
              "      <td>0.010000</td>\n",
              "      <td>0.055000</td>\n",
              "      <td>0.100000</td>\n",
              "    </tr>\n",
              "    <tr>\n",
              "      <th>1</th>\n",
              "      <td>-0.374824</td>\n",
              "      <td>0.010000</td>\n",
              "      <td>0.032500</td>\n",
              "      <td>0.055000</td>\n",
              "    </tr>\n",
              "    <tr>\n",
              "      <th>2</th>\n",
              "      <td>1.110235</td>\n",
              "      <td>0.010000</td>\n",
              "      <td>0.021250</td>\n",
              "      <td>0.032500</td>\n",
              "    </tr>\n",
              "    <tr>\n",
              "      <th>3</th>\n",
              "      <td>0.254798</td>\n",
              "      <td>0.021250</td>\n",
              "      <td>0.026875</td>\n",
              "      <td>0.032500</td>\n",
              "    </tr>\n",
              "    <tr>\n",
              "      <th>4</th>\n",
              "      <td>-0.081559</td>\n",
              "      <td>0.026875</td>\n",
              "      <td>0.029688</td>\n",
              "      <td>0.032500</td>\n",
              "    </tr>\n",
              "    <tr>\n",
              "      <th>5</th>\n",
              "      <td>0.080579</td>\n",
              "      <td>0.026875</td>\n",
              "      <td>0.028281</td>\n",
              "      <td>0.029688</td>\n",
              "    </tr>\n",
              "    <tr>\n",
              "      <th>6</th>\n",
              "      <td>-0.001910</td>\n",
              "      <td>0.028281</td>\n",
              "      <td>0.028984</td>\n",
              "      <td>0.029688</td>\n",
              "    </tr>\n",
              "    <tr>\n",
              "      <th>7</th>\n",
              "      <td>0.038969</td>\n",
              "      <td>0.028281</td>\n",
              "      <td>0.028633</td>\n",
              "      <td>0.028984</td>\n",
              "    </tr>\n",
              "  </tbody>\n",
              "</table>\n",
              "</div>\n",
              "      <button class=\"colab-df-convert\" onclick=\"convertToInteractive('df-b1eb1ac4-04aa-4649-bde6-a91a269c0100')\"\n",
              "              title=\"Convert this dataframe to an interactive table.\"\n",
              "              style=\"display:none;\">\n",
              "        \n",
              "  <svg xmlns=\"http://www.w3.org/2000/svg\" height=\"24px\"viewBox=\"0 0 24 24\"\n",
              "       width=\"24px\">\n",
              "    <path d=\"M0 0h24v24H0V0z\" fill=\"none\"/>\n",
              "    <path d=\"M18.56 5.44l.94 2.06.94-2.06 2.06-.94-2.06-.94-.94-2.06-.94 2.06-2.06.94zm-11 1L8.5 8.5l.94-2.06 2.06-.94-2.06-.94L8.5 2.5l-.94 2.06-2.06.94zm10 10l.94 2.06.94-2.06 2.06-.94-2.06-.94-.94-2.06-.94 2.06-2.06.94z\"/><path d=\"M17.41 7.96l-1.37-1.37c-.4-.4-.92-.59-1.43-.59-.52 0-1.04.2-1.43.59L10.3 9.45l-7.72 7.72c-.78.78-.78 2.05 0 2.83L4 21.41c.39.39.9.59 1.41.59.51 0 1.02-.2 1.41-.59l7.78-7.78 2.81-2.81c.8-.78.8-2.07 0-2.86zM5.41 20L4 18.59l7.72-7.72 1.47 1.35L5.41 20z\"/>\n",
              "  </svg>\n",
              "      </button>\n",
              "      \n",
              "  <style>\n",
              "    .colab-df-container {\n",
              "      display:flex;\n",
              "      flex-wrap:wrap;\n",
              "      gap: 12px;\n",
              "    }\n",
              "\n",
              "    .colab-df-convert {\n",
              "      background-color: #E8F0FE;\n",
              "      border: none;\n",
              "      border-radius: 50%;\n",
              "      cursor: pointer;\n",
              "      display: none;\n",
              "      fill: #1967D2;\n",
              "      height: 32px;\n",
              "      padding: 0 0 0 0;\n",
              "      width: 32px;\n",
              "    }\n",
              "\n",
              "    .colab-df-convert:hover {\n",
              "      background-color: #E2EBFA;\n",
              "      box-shadow: 0px 1px 2px rgba(60, 64, 67, 0.3), 0px 1px 3px 1px rgba(60, 64, 67, 0.15);\n",
              "      fill: #174EA6;\n",
              "    }\n",
              "\n",
              "    [theme=dark] .colab-df-convert {\n",
              "      background-color: #3B4455;\n",
              "      fill: #D2E3FC;\n",
              "    }\n",
              "\n",
              "    [theme=dark] .colab-df-convert:hover {\n",
              "      background-color: #434B5C;\n",
              "      box-shadow: 0px 1px 3px 1px rgba(0, 0, 0, 0.15);\n",
              "      filter: drop-shadow(0px 1px 2px rgba(0, 0, 0, 0.3));\n",
              "      fill: #FFFFFF;\n",
              "    }\n",
              "  </style>\n",
              "\n",
              "      <script>\n",
              "        const buttonEl =\n",
              "          document.querySelector('#df-b1eb1ac4-04aa-4649-bde6-a91a269c0100 button.colab-df-convert');\n",
              "        buttonEl.style.display =\n",
              "          google.colab.kernel.accessAllowed ? 'block' : 'none';\n",
              "\n",
              "        async function convertToInteractive(key) {\n",
              "          const element = document.querySelector('#df-b1eb1ac4-04aa-4649-bde6-a91a269c0100');\n",
              "          const dataTable =\n",
              "            await google.colab.kernel.invokeFunction('convertToInteractive',\n",
              "                                                     [key], {});\n",
              "          if (!dataTable) return;\n",
              "\n",
              "          const docLinkHtml = 'Like what you see? Visit the ' +\n",
              "            '<a target=\"_blank\" href=https://colab.research.google.com/notebooks/data_table.ipynb>data table notebook</a>'\n",
              "            + ' to learn more about interactive tables.';\n",
              "          element.innerHTML = '';\n",
              "          dataTable['output_type'] = 'display_data';\n",
              "          await google.colab.output.renderOutput(dataTable, element);\n",
              "          const docLink = document.createElement('div');\n",
              "          docLink.innerHTML = docLinkHtml;\n",
              "          element.appendChild(docLink);\n",
              "        }\n",
              "      </script>\n",
              "    </div>\n",
              "  </div>\n",
              "  "
            ]
          },
          "metadata": {}
        }
      ]
    },
    {
      "cell_type": "code",
      "execution_count": 155,
      "metadata": {
        "colab": {
          "base_uri": "https://localhost:8080/",
          "height": 1000
        },
        "id": "ORlj1cYeUq64",
        "outputId": "8852e35f-b59e-4255-820c-c875cc57967c"
      },
      "outputs": [
        {
          "output_type": "stream",
          "name": "stdout",
          "text": [
            "iteration 0\n",
            "\n",
            "f(x_n-1): -1.2499996740373381e-07 x_n-1:0.0050000000005\n",
            "f(x_n): -1.5624983697179078e-08 x_n:0.0025000000007500004\n",
            "iteration 1\n",
            "\n",
            "f(x_n-1): -1.5624983697179078e-08 x_n-1:0.0025000000007500004\n",
            "f(x_n): -1.9531168456595197e-09 x_n:0.0012500000008750002\n",
            "iteration 2\n",
            "\n",
            "f(x_n-1): -1.9531168456595197e-09 x_n-1:0.0012500000008750002\n",
            "f(x_n): -2.441365468772812e-10 x_n:0.0006250000009375001\n",
            "iteration 3\n",
            "\n",
            "f(x_n-1): -2.441365468772812e-10 x_n-1:0.0006250000009375001\n",
            "f(x_n): -3.0515538797807756e-11 x_n:0.00031250000096875004\n",
            "iteration 4\n",
            "\n",
            "f(x_n-1): -3.0515538797807756e-11 x_n-1:0.00031250000096875004\n",
            "f(x_n): -3.8136775318900374e-12 x_n:0.00015625000098437502\n",
            "iteration 5\n",
            "\n",
            "f(x_n-1): -3.8136775318900374e-12 x_n-1:0.00015625000098437502\n",
            "f(x_n): -4.76327273124375e-13 x_n:7.812500099218751e-05\n",
            "iteration 6\n",
            "\n",
            "f(x_n-1): -4.76327273124375e-13 x_n-1:7.812500099218751e-05\n",
            "f(x_n): -5.934969738214828e-14 x_n:3.906250099609375e-05\n",
            "iteration 7\n",
            "\n",
            "f(x_n-1): -5.934969738214828e-14 x_n-1:3.906250099609375e-05\n",
            "f(x_n): -7.323105432724279e-15 x_n:1.9531250998046877e-05\n",
            "iteration 8\n",
            "\n",
            "f(x_n-1): -7.323105432724279e-15 x_n-1:1.9531250998046877e-05\n",
            "f(x_n): -8.675843773768757e-16 x_n:9.765625999023438e-06\n",
            "iteration 9\n",
            "\n",
            "f(x_n-1): -8.675843773768757e-16 x_n-1:9.765625999023438e-06\n",
            "f(x_n): -8.45458219121106e-17 x_n:4.882813499511719e-06\n",
            "iteration 10\n",
            "\n",
            "f(x_n-1): -8.45458219121106e-17 x_n-1:4.882813499511719e-06\n",
            "f(x_n): 1.3831824720647441e-18 x_n:2.4414072497558596e-06\n",
            "iteration 11\n",
            "\n",
            "f(x_n-1): 1.3831824720647441e-18 x_n-1:2.4414072497558596e-06\n",
            "f(x_n): -2.5210410622673135e-17 x_n:3.6621103746337892e-06\n",
            "iteration 12\n",
            "\n",
            "f(x_n-1): -2.5210410622673135e-17 x_n-1:3.6621103746337892e-06\n",
            "f(x_n): -8.50300782709181e-18 x_n:3.0517588121948246e-06\n",
            "iteration 13\n",
            "\n",
            "f(x_n-1): -8.50300782709181e-18 x_n-1:3.0517588121948246e-06\n",
            "f(x_n): -2.7925262437260685e-18 x_n:2.746583030975342e-06\n",
            "iteration 14\n",
            "\n",
            "f(x_n-1): -2.7925262437260685e-18 x_n-1:2.746583030975342e-06\n",
            "f(x_n): -5.234834184170004e-19 x_n:2.593995140365601e-06\n",
            "iteration 15\n",
            "\n",
            "f(x_n-1): -5.234834184170004e-19 x_n-1:2.593995140365601e-06\n",
            "f(x_n): 4.73814376048136e-19 x_n:2.5177011950607304e-06\n",
            "iteration 16\n",
            "\n",
            "f(x_n-1): 4.73814376048136e-19 x_n-1:2.5177011950607304e-06\n",
            "f(x_n): -1.3676775424719232e-20 x_n:2.5558481677131654e-06\n",
            "iteration 17\n",
            "\n",
            "f(x_n-1): -1.3676775424719232e-20 x_n-1:2.5558481677131654e-06\n"
          ]
        },
        {
          "output_type": "display_data",
          "data": {
            "text/plain": [
              "<Figure size 432x288 with 1 Axes>"
            ],
            "image/png": "[encoded data removed]"
          },
          "metadata": {
            "needs_background": "light"
          }
        },
        {
          "output_type": "display_data",
          "data": {
            "text/plain": [
              "2.536774681386948e-06"
            ]
          },
          "metadata": {}
        },
        {
          "output_type": "display_data",
          "data": {
            "text/plain": [
              "5.595718105492482"
            ]
          },
          "metadata": {}
        }
      ],
      "source": [
        "[k1,k2,k3,kh,pco2]=[10**(-6.3),10**(-10.3),10**(-14),10**(-1.46),375]\n",
        "\n",
        "#function = lambda x:x*5.474072610560535e-12 + 5.487070616723301e-22 + k3*x - x**3\n",
        "function = lambda x:(x*k1*kh*pco2)/((10**6)) + (2*k2*k1*kh*pco2)/(10**6) + k3*x - x**3\n",
        "\n",
        "bisection = bisection_method(function,10**(-12),10**(-2),True)\n",
        "result = bisection.find_root(0.01,1000,0.01,0.01,'pro_2_2003')\n",
        "display(result)\n",
        "display(-np.log10(result))\n"
      ]
    },
    {
      "cell_type": "code",
      "source": [
        "print(bisection.result_table.to_latex())"
      ],
      "metadata": {
        "colab": {
          "base_uri": "https://localhost:8080/"
        },
        "id": "C5ZPVz7DX08W",
        "outputId": "d8f47d7d-8381-4275-b321-17bf7e551680"
      },
      "execution_count": 157,
      "outputs": [
        {
          "output_type": "stream",
          "name": "stdout",
          "text": [
            "\\begin{tabular}{lrrrr}\n",
            "\\toprule\n",
            "{} &          f(x) &    PH de a &  PH de (a+b)/2 &   PH de b \\\\\n",
            "\\midrule\n",
            "0  & -1.250000e-07 &  12.000000 &       2.301030 &  2.000000 \\\\\n",
            "1  & -1.562498e-08 &  12.000000 &       2.602060 &  2.301030 \\\\\n",
            "2  & -1.953117e-09 &  12.000000 &       2.903090 &  2.602060 \\\\\n",
            "3  & -2.441365e-10 &  12.000000 &       3.204120 &  2.903090 \\\\\n",
            "4  & -3.051554e-11 &  12.000000 &       3.505150 &  3.204120 \\\\\n",
            "5  & -3.813678e-12 &  12.000000 &       3.806180 &  3.505150 \\\\\n",
            "6  & -4.763273e-13 &  12.000000 &       4.107210 &  3.806180 \\\\\n",
            "7  & -5.934970e-14 &  12.000000 &       4.408240 &  4.107210 \\\\\n",
            "8  & -7.323105e-15 &  12.000000 &       4.709270 &  4.408240 \\\\\n",
            "9  & -8.675844e-16 &  12.000000 &       5.010300 &  4.709270 \\\\\n",
            "10 & -8.454582e-17 &  12.000000 &       5.311330 &  5.010300 \\\\\n",
            "11 &  1.383182e-18 &  12.000000 &       5.612360 &  5.311330 \\\\\n",
            "12 & -2.521041e-17 &   5.612360 &       5.436269 &  5.311330 \\\\\n",
            "13 & -8.503008e-18 &   5.612360 &       5.515450 &  5.436269 \\\\\n",
            "14 & -2.792526e-18 &   5.612360 &       5.561207 &  5.515450 \\\\\n",
            "15 & -5.234834e-19 &   5.612360 &       5.586031 &  5.561207 \\\\\n",
            "16 &  4.738144e-19 &   5.612360 &       5.598996 &  5.586031 \\\\\n",
            "17 & -1.367678e-20 &   5.598996 &       5.592465 &  5.586031 \\\\\n",
            "\\bottomrule\n",
            "\\end{tabular}\n",
            "\n"
          ]
        }
      ]
    },
    {
      "cell_type": "markdown",
      "metadata": {
        "id": "QRvMESTPntsP"
      },
      "source": [
        "#Projeto 4:"
      ]
    },
    {
      "cell_type": "code",
      "execution_count": 168,
      "metadata": {
        "colab": {
          "base_uri": "https://localhost:8080/",
          "height": 803
        },
        "id": "qH6ZOaJ-cKJc",
        "outputId": "2c0a68f0-3bf2-4981-8009-20a8c922f62c"
      },
      "outputs": [
        {
          "output_type": "stream",
          "name": "stdout",
          "text": [
            "iteration 0\n",
            "\n",
            "f(x_n-1): -1.27561884106934 x_n-1:0.044\n",
            "f(x_n): 0.3699989256623013 x_n:0.026\n",
            "iteration 1\n",
            "\n",
            "f(x_n-1): 0.3699989256623013 x_n-1:0.026\n",
            "f(x_n): -0.60635948641775 x_n:0.034999999999999996\n",
            "iteration 2\n",
            "\n",
            "f(x_n-1): -0.60635948641775 x_n-1:0.034999999999999996\n",
            "f(x_n): -0.17027331045548344 x_n:0.0305\n",
            "iteration 3\n",
            "\n",
            "f(x_n-1): -0.17027331045548344 x_n-1:0.0305\n",
            "f(x_n): 0.08431333151792941 x_n:0.028249999999999997\n",
            "iteration 4\n",
            "\n",
            "f(x_n-1): 0.08431333151792941 x_n-1:0.028249999999999997\n",
            "f(x_n): -0.04649925535317134 x_n:0.029375\n",
            "iteration 5\n",
            "\n",
            "f(x_n-1): -0.04649925535317134 x_n-1:0.029375\n",
            "f(x_n): 0.017985105378833133 x_n:0.028812499999999998\n",
            "iteration 6\n",
            "\n",
            "f(x_n-1): 0.017985105378833133 x_n-1:0.028812499999999998\n"
          ]
        },
        {
          "output_type": "display_data",
          "data": {
            "text/plain": [
              "<Figure size 432x288 with 1 Axes>"
            ],
            "image/png": "[encoded data removed]"
          },
          "metadata": {
            "needs_background": "light"
          }
        },
        {
          "output_type": "display_data",
          "data": {
            "text/plain": [
              "0.029093749999999998"
            ]
          },
          "metadata": {}
        }
      ],
      "source": [
        "re = (1.23*40*0.005)/0.0000179\n",
        "function = lambda x: 1/((x)**(1/2)) +  2*np.log10(0.0000015/(3.7*0.005) +(2.51)/(( (x**(1/2))*(re) )) ) \n",
        "\n",
        "bisection = bisection_method(function,0.008,0.08,True)\n",
        "display(bisection.find_root(0.01,100,0.03,0.03,'proj_4'))"
      ]
    },
    {
      "cell_type": "code",
      "source": [
        "bisection.result_table"
      ],
      "metadata": {
        "colab": {
          "base_uri": "https://localhost:8080/",
          "height": 269
        },
        "id": "j7rcno8NVXNh",
        "outputId": "d272938b-db63-4d2a-bc32-20ce8e8f6624"
      },
      "execution_count": 169,
      "outputs": [
        {
          "output_type": "execute_result",
          "data": {
            "text/plain": [
              "       f(x)   PH de a  PH de (a+b)/2   PH de b\n",
              "0  0.369999  0.008000       0.026000  0.044000\n",
              "1 -0.606359  0.026000       0.035000  0.044000\n",
              "2 -0.170273  0.026000       0.030500  0.035000\n",
              "3  0.084313  0.026000       0.028250  0.030500\n",
              "4 -0.046499  0.028250       0.029375  0.030500\n",
              "5  0.017985  0.028250       0.028812  0.029375\n",
              "6 -0.014482  0.028812       0.029094  0.029375"
            ],
            "text/html": [
              "\n",
              "  <div id=\"df-806013b8-5886-4141-9062-8f5e461cf6db\">\n",
              "    <div class=\"colab-df-container\">\n",
              "      <div>\n",
              "<style scoped>\n",
              "    .dataframe tbody tr th:only-of-type {\n",
              "        vertical-align: middle;\n",
              "    }\n",
              "\n",
              "    .dataframe tbody tr th {\n",
              "        vertical-align: top;\n",
              "    }\n",
              "\n",
              "    .dataframe thead th {\n",
              "        text-align: right;\n",
              "    }\n",
              "</style>\n",
              "<table border=\"1\" class=\"dataframe\">\n",
              "  <thead>\n",
              "    <tr style=\"text-align: right;\">\n",
              "      <th></th>\n",
              "      <th>f(x)</th>\n",
              "      <th>PH de a</th>\n",
              "      <th>PH de (a+b)/2</th>\n",
              "      <th>PH de b</th>\n",
              "    </tr>\n",
              "  </thead>\n",
              "  <tbody>\n",
              "    <tr>\n",
              "      <th>0</th>\n",
              "      <td>0.369999</td>\n",
              "      <td>0.008000</td>\n",
              "      <td>0.026000</td>\n",
              "      <td>0.044000</td>\n",
              "    </tr>\n",
              "    <tr>\n",
              "      <th>1</th>\n",
              "      <td>-0.606359</td>\n",
              "      <td>0.026000</td>\n",
              "      <td>0.035000</td>\n",
              "      <td>0.044000</td>\n",
              "    </tr>\n",
              "    <tr>\n",
              "      <th>2</th>\n",
              "      <td>-0.170273</td>\n",
              "      <td>0.026000</td>\n",
              "      <td>0.030500</td>\n",
              "      <td>0.035000</td>\n",
              "    </tr>\n",
              "    <tr>\n",
              "      <th>3</th>\n",
              "      <td>0.084313</td>\n",
              "      <td>0.026000</td>\n",
              "      <td>0.028250</td>\n",
              "      <td>0.030500</td>\n",
              "    </tr>\n",
              "    <tr>\n",
              "      <th>4</th>\n",
              "      <td>-0.046499</td>\n",
              "      <td>0.028250</td>\n",
              "      <td>0.029375</td>\n",
              "      <td>0.030500</td>\n",
              "    </tr>\n",
              "    <tr>\n",
              "      <th>5</th>\n",
              "      <td>0.017985</td>\n",
              "      <td>0.028250</td>\n",
              "      <td>0.028812</td>\n",
              "      <td>0.029375</td>\n",
              "    </tr>\n",
              "    <tr>\n",
              "      <th>6</th>\n",
              "      <td>-0.014482</td>\n",
              "      <td>0.028812</td>\n",
              "      <td>0.029094</td>\n",
              "      <td>0.029375</td>\n",
              "    </tr>\n",
              "  </tbody>\n",
              "</table>\n",
              "</div>\n",
              "      <button class=\"colab-df-convert\" onclick=\"convertToInteractive('df-806013b8-5886-4141-9062-8f5e461cf6db')\"\n",
              "              title=\"Convert this dataframe to an interactive table.\"\n",
              "              style=\"display:none;\">\n",
              "        \n",
              "  <svg xmlns=\"http://www.w3.org/2000/svg\" height=\"24px\"viewBox=\"0 0 24 24\"\n",
              "       width=\"24px\">\n",
              "    <path d=\"M0 0h24v24H0V0z\" fill=\"none\"/>\n",
              "    <path d=\"M18.56 5.44l.94 2.06.94-2.06 2.06-.94-2.06-.94-.94-2.06-.94 2.06-2.06.94zm-11 1L8.5 8.5l.94-2.06 2.06-.94-2.06-.94L8.5 2.5l-.94 2.06-2.06.94zm10 10l.94 2.06.94-2.06 2.06-.94-2.06-.94-.94-2.06-.94 2.06-2.06.94z\"/><path d=\"M17.41 7.96l-1.37-1.37c-.4-.4-.92-.59-1.43-.59-.52 0-1.04.2-1.43.59L10.3 9.45l-7.72 7.72c-.78.78-.78 2.05 0 2.83L4 21.41c.39.39.9.59 1.41.59.51 0 1.02-.2 1.41-.59l7.78-7.78 2.81-2.81c.8-.78.8-2.07 0-2.86zM5.41 20L4 18.59l7.72-7.72 1.47 1.35L5.41 20z\"/>\n",
              "  </svg>\n",
              "      </button>\n",
              "      \n",
              "  <style>\n",
              "    .colab-df-container {\n",
              "      display:flex;\n",
              "      flex-wrap:wrap;\n",
              "      gap: 12px;\n",
              "    }\n",
              "\n",
              "    .colab-df-convert {\n",
              "      background-color: #E8F0FE;\n",
              "      border: none;\n",
              "      border-radius: 50%;\n",
              "      cursor: pointer;\n",
              "      display: none;\n",
              "      fill: #1967D2;\n",
              "      height: 32px;\n",
              "      padding: 0 0 0 0;\n",
              "      width: 32px;\n",
              "    }\n",
              "\n",
              "    .colab-df-convert:hover {\n",
              "      background-color: #E2EBFA;\n",
              "      box-shadow: 0px 1px 2px rgba(60, 64, 67, 0.3), 0px 1px 3px 1px rgba(60, 64, 67, 0.15);\n",
              "      fill: #174EA6;\n",
              "    }\n",
              "\n",
              "    [theme=dark] .colab-df-convert {\n",
              "      background-color: #3B4455;\n",
              "      fill: #D2E3FC;\n",
              "    }\n",
              "\n",
              "    [theme=dark] .colab-df-convert:hover {\n",
              "      background-color: #434B5C;\n",
              "      box-shadow: 0px 1px 3px 1px rgba(0, 0, 0, 0.15);\n",
              "      filter: drop-shadow(0px 1px 2px rgba(0, 0, 0, 0.3));\n",
              "      fill: #FFFFFF;\n",
              "    }\n",
              "  </style>\n",
              "\n",
              "      <script>\n",
              "        const buttonEl =\n",
              "          document.querySelector('#df-806013b8-5886-4141-9062-8f5e461cf6db button.colab-df-convert');\n",
              "        buttonEl.style.display =\n",
              "          google.colab.kernel.accessAllowed ? 'block' : 'none';\n",
              "\n",
              "        async function convertToInteractive(key) {\n",
              "          const element = document.querySelector('#df-806013b8-5886-4141-9062-8f5e461cf6db');\n",
              "          const dataTable =\n",
              "            await google.colab.kernel.invokeFunction('convertToInteractive',\n",
              "                                                     [key], {});\n",
              "          if (!dataTable) return;\n",
              "\n",
              "          const docLinkHtml = 'Like what you see? Visit the ' +\n",
              "            '<a target=\"_blank\" href=https://colab.research.google.com/notebooks/data_table.ipynb>data table notebook</a>'\n",
              "            + ' to learn more about interactive tables.';\n",
              "          element.innerHTML = '';\n",
              "          dataTable['output_type'] = 'display_data';\n",
              "          await google.colab.output.renderOutput(dataTable, element);\n",
              "          const docLink = document.createElement('div');\n",
              "          docLink.innerHTML = docLinkHtml;\n",
              "          element.appendChild(docLink);\n",
              "        }\n",
              "      </script>\n",
              "    </div>\n",
              "  </div>\n",
              "  "
            ]
          },
          "metadata": {},
          "execution_count": 169
        }
      ]
    },
    {
      "cell_type": "code",
      "source": [
        "print(bisection.result_table.to_latex())"
      ],
      "metadata": {
        "colab": {
          "base_uri": "https://localhost:8080/"
        },
        "id": "nkATDWYiWjKA",
        "outputId": "8963d8d7-e673-40c5-eef4-f9584cf243f2"
      },
      "execution_count": 170,
      "outputs": [
        {
          "output_type": "stream",
          "name": "stdout",
          "text": [
            "\\begin{tabular}{lrrrr}\n",
            "\\toprule\n",
            "{} &      f(x) &   PH de a &  PH de (a+b)/2 &   PH de b \\\\\n",
            "\\midrule\n",
            "0 &  0.369999 &  0.008000 &       0.026000 &  0.044000 \\\\\n",
            "1 & -0.606359 &  0.026000 &       0.035000 &  0.044000 \\\\\n",
            "2 & -0.170273 &  0.026000 &       0.030500 &  0.035000 \\\\\n",
            "3 &  0.084313 &  0.026000 &       0.028250 &  0.030500 \\\\\n",
            "4 & -0.046499 &  0.028250 &       0.029375 &  0.030500 \\\\\n",
            "5 &  0.017985 &  0.028250 &       0.028812 &  0.029375 \\\\\n",
            "6 & -0.014482 &  0.028812 &       0.029094 &  0.029375 \\\\\n",
            "\\bottomrule\n",
            "\\end{tabular}\n",
            "\n"
          ]
        }
      ]
    },
    {
      "cell_type": "markdown",
      "metadata": {
        "id": "LWgtRA7ASgG2"
      },
      "source": [
        "Trying to solve project 4 problem by Newton-raphson."
      ]
    }
  ],
  "metadata": {
    "colab": {
      "collapsed_sections": [],
      "name": "LabMatIndustrial.ipynb",
      "provenance": []
    },
    "kernelspec": {
      "display_name": "Python 3",
      "name": "python3"
    },
    "language_info": {
      "name": "python"
    }
  },
  "nbformat": 4,
  "nbformat_minor": 0
}